{
 "cells": [
  {
   "cell_type": "code",
   "execution_count": 63,
   "id": "84e9394d",
   "metadata": {},
   "outputs": [],
   "source": [
    "import pandas as pd\n",
    "import numpy as np\n",
    "import matplotlib.pyplot as plt"
   ]
  },
  {
   "cell_type": "markdown",
   "id": "39a67dfd",
   "metadata": {},
   "source": [
    "#  Анализ данных в CSV файле из Яндекс Такси"
   ]
  },
  {
   "cell_type": "markdown",
   "id": "9321eca8",
   "metadata": {},
   "source": [
    "Чтение данных из CSV файла"
   ]
  },
  {
   "cell_type": "code",
   "execution_count": 2,
   "id": "b422f4c7",
   "metadata": {},
   "outputs": [],
   "source": [
    "data = pd.read_csv('orders.csv') "
   ]
  },
  {
   "cell_type": "code",
   "execution_count": 5,
   "id": "2bfb79eb",
   "metadata": {},
   "outputs": [
    {
     "data": {
      "text/html": [
       "<div>\n",
       "<style scoped>\n",
       "    .dataframe tbody tr th:only-of-type {\n",
       "        vertical-align: middle;\n",
       "    }\n",
       "\n",
       "    .dataframe tbody tr th {\n",
       "        vertical-align: top;\n",
       "    }\n",
       "\n",
       "    .dataframe thead th {\n",
       "        text-align: right;\n",
       "    }\n",
       "</style>\n",
       "<table border=\"1\" class=\"dataframe\">\n",
       "  <thead>\n",
       "    <tr style=\"text-align: right;\">\n",
       "      <th></th>\n",
       "      <th>created_at_utc</th>\n",
       "      <th>tariff_class</th>\n",
       "      <th>tariff_internal_name</th>\n",
       "      <th>status</th>\n",
       "      <th>taxi_status</th>\n",
       "      <th>vehicle_model</th>\n",
       "      <th>vehicle_color</th>\n",
       "      <th>vehicle_car_region</th>\n",
       "      <th>payment_cost</th>\n",
       "      <th>payment_currency_code</th>\n",
       "      <th>driver_call_model</th>\n",
       "    </tr>\n",
       "  </thead>\n",
       "  <tbody>\n",
       "    <tr>\n",
       "      <th>0</th>\n",
       "      <td>1622145491</td>\n",
       "      <td>Эконом</td>\n",
       "      <td>econom</td>\n",
       "      <td>cancelled</td>\n",
       "      <td>waiting</td>\n",
       "      <td>Kia Rio</td>\n",
       "      <td>белый</td>\n",
       "      <td>34</td>\n",
       "      <td>52.00</td>\n",
       "      <td>RUB</td>\n",
       "      <td>no_call</td>\n",
       "    </tr>\n",
       "    <tr>\n",
       "      <th>1</th>\n",
       "      <td>1622145422</td>\n",
       "      <td>Эконом</td>\n",
       "      <td>econom</td>\n",
       "      <td>cancelled</td>\n",
       "      <td>driving</td>\n",
       "      <td>LADA (ВАЗ) Granta</td>\n",
       "      <td>серый</td>\n",
       "      <td>34</td>\n",
       "      <td>0.00</td>\n",
       "      <td>RUB</td>\n",
       "      <td>no_call</td>\n",
       "    </tr>\n",
       "    <tr>\n",
       "      <th>2</th>\n",
       "      <td>1622145212</td>\n",
       "      <td>Эконом</td>\n",
       "      <td>econom</td>\n",
       "      <td>finished</td>\n",
       "      <td>complete</td>\n",
       "      <td>Renault Logan</td>\n",
       "      <td>белый</td>\n",
       "      <td>34</td>\n",
       "      <td>104.70</td>\n",
       "      <td>RUB</td>\n",
       "      <td>on_demand</td>\n",
       "    </tr>\n",
       "    <tr>\n",
       "      <th>3</th>\n",
       "      <td>1622054615</td>\n",
       "      <td>Эконом</td>\n",
       "      <td>econom</td>\n",
       "      <td>finished</td>\n",
       "      <td>complete</td>\n",
       "      <td>LADA (ВАЗ) Granta</td>\n",
       "      <td>белый</td>\n",
       "      <td>34</td>\n",
       "      <td>120.00</td>\n",
       "      <td>RUB</td>\n",
       "      <td>on_demand</td>\n",
       "    </tr>\n",
       "    <tr>\n",
       "      <th>4</th>\n",
       "      <td>1622045036</td>\n",
       "      <td>Эконом</td>\n",
       "      <td>econom</td>\n",
       "      <td>finished</td>\n",
       "      <td>complete</td>\n",
       "      <td>LADA (ВАЗ) Granta</td>\n",
       "      <td>белый</td>\n",
       "      <td>34</td>\n",
       "      <td>115.50</td>\n",
       "      <td>RUB</td>\n",
       "      <td>on_demand</td>\n",
       "    </tr>\n",
       "    <tr>\n",
       "      <th>...</th>\n",
       "      <td>...</td>\n",
       "      <td>...</td>\n",
       "      <td>...</td>\n",
       "      <td>...</td>\n",
       "      <td>...</td>\n",
       "      <td>...</td>\n",
       "      <td>...</td>\n",
       "      <td>...</td>\n",
       "      <td>...</td>\n",
       "      <td>...</td>\n",
       "      <td>...</td>\n",
       "    </tr>\n",
       "    <tr>\n",
       "      <th>1200</th>\n",
       "      <td>1617028952</td>\n",
       "      <td>Эконом</td>\n",
       "      <td>econom</td>\n",
       "      <td>finished</td>\n",
       "      <td>complete</td>\n",
       "      <td>LADA (ВАЗ) Largus</td>\n",
       "      <td>белый</td>\n",
       "      <td>34</td>\n",
       "      <td>472.40</td>\n",
       "      <td>RUB</td>\n",
       "      <td>no_call</td>\n",
       "    </tr>\n",
       "    <tr>\n",
       "      <th>1201</th>\n",
       "      <td>1617028458</td>\n",
       "      <td>Эконом</td>\n",
       "      <td>econom</td>\n",
       "      <td>cancelled</td>\n",
       "      <td>driving</td>\n",
       "      <td>LADA (ВАЗ) Granta</td>\n",
       "      <td>белый</td>\n",
       "      <td>34</td>\n",
       "      <td>0.00</td>\n",
       "      <td>RUB</td>\n",
       "      <td>no_call</td>\n",
       "    </tr>\n",
       "    <tr>\n",
       "      <th>1202</th>\n",
       "      <td>1617025078</td>\n",
       "      <td>Эконом</td>\n",
       "      <td>econom</td>\n",
       "      <td>finished</td>\n",
       "      <td>complete</td>\n",
       "      <td>LADA (ВАЗ) Granta</td>\n",
       "      <td>серый</td>\n",
       "      <td>34</td>\n",
       "      <td>146.85</td>\n",
       "      <td>RUB</td>\n",
       "      <td>no_call</td>\n",
       "    </tr>\n",
       "    <tr>\n",
       "      <th>1203</th>\n",
       "      <td>1616869125</td>\n",
       "      <td>Эконом</td>\n",
       "      <td>econom</td>\n",
       "      <td>cancelled</td>\n",
       "      <td>driving</td>\n",
       "      <td>LADA (ВАЗ) Largus</td>\n",
       "      <td>серый</td>\n",
       "      <td>34</td>\n",
       "      <td>0.00</td>\n",
       "      <td>RUB</td>\n",
       "      <td>no_call</td>\n",
       "    </tr>\n",
       "    <tr>\n",
       "      <th>1204</th>\n",
       "      <td>1616844024</td>\n",
       "      <td>Эконом</td>\n",
       "      <td>econom</td>\n",
       "      <td>finished</td>\n",
       "      <td>complete</td>\n",
       "      <td>Volkswagen Polo</td>\n",
       "      <td>жёлтый</td>\n",
       "      <td>34</td>\n",
       "      <td>600.00</td>\n",
       "      <td>RUB</td>\n",
       "      <td>no_call</td>\n",
       "    </tr>\n",
       "  </tbody>\n",
       "</table>\n",
       "<p>1205 rows × 11 columns</p>\n",
       "</div>"
      ],
      "text/plain": [
       "      created_at_utc tariff_class tariff_internal_name     status taxi_status  \\\n",
       "0         1622145491       Эконом               econom  cancelled     waiting   \n",
       "1         1622145422       Эконом               econom  cancelled     driving   \n",
       "2         1622145212       Эконом               econom   finished    complete   \n",
       "3         1622054615       Эконом               econom   finished    complete   \n",
       "4         1622045036       Эконом               econom   finished    complete   \n",
       "...              ...          ...                  ...        ...         ...   \n",
       "1200      1617028952       Эконом               econom   finished    complete   \n",
       "1201      1617028458       Эконом               econom  cancelled     driving   \n",
       "1202      1617025078       Эконом               econom   finished    complete   \n",
       "1203      1616869125       Эконом               econom  cancelled     driving   \n",
       "1204      1616844024       Эконом               econom   finished    complete   \n",
       "\n",
       "          vehicle_model vehicle_color  vehicle_car_region  payment_cost  \\\n",
       "0               Kia Rio         белый                  34         52.00   \n",
       "1     LADA (ВАЗ) Granta         серый                  34          0.00   \n",
       "2         Renault Logan         белый                  34        104.70   \n",
       "3     LADA (ВАЗ) Granta         белый                  34        120.00   \n",
       "4     LADA (ВАЗ) Granta         белый                  34        115.50   \n",
       "...                 ...           ...                 ...           ...   \n",
       "1200  LADA (ВАЗ) Largus         белый                  34        472.40   \n",
       "1201  LADA (ВАЗ) Granta         белый                  34          0.00   \n",
       "1202  LADA (ВАЗ) Granta         серый                  34        146.85   \n",
       "1203  LADA (ВАЗ) Largus         серый                  34          0.00   \n",
       "1204    Volkswagen Polo        жёлтый                  34        600.00   \n",
       "\n",
       "     payment_currency_code driver_call_model  \n",
       "0                      RUB           no_call  \n",
       "1                      RUB           no_call  \n",
       "2                      RUB         on_demand  \n",
       "3                      RUB         on_demand  \n",
       "4                      RUB         on_demand  \n",
       "...                    ...               ...  \n",
       "1200                   RUB           no_call  \n",
       "1201                   RUB           no_call  \n",
       "1202                   RUB           no_call  \n",
       "1203                   RUB           no_call  \n",
       "1204                   RUB           no_call  \n",
       "\n",
       "[1205 rows x 11 columns]"
      ]
     },
     "execution_count": 5,
     "metadata": {},
     "output_type": "execute_result"
    }
   ],
   "source": [
    "data"
   ]
  },
  {
   "cell_type": "markdown",
   "id": "1950f604",
   "metadata": {},
   "source": [
    "Изучение информации о DataFrame"
   ]
  },
  {
   "cell_type": "code",
   "execution_count": 6,
   "id": "ec8c04f6",
   "metadata": {},
   "outputs": [
    {
     "name": "stdout",
     "output_type": "stream",
     "text": [
      "<class 'pandas.core.frame.DataFrame'>\n",
      "RangeIndex: 1205 entries, 0 to 1204\n",
      "Data columns (total 11 columns):\n",
      " #   Column                 Non-Null Count  Dtype  \n",
      "---  ------                 --------------  -----  \n",
      " 0   created_at_utc         1205 non-null   int64  \n",
      " 1   tariff_class           1205 non-null   object \n",
      " 2   tariff_internal_name   1205 non-null   object \n",
      " 3   status                 1205 non-null   object \n",
      " 4   taxi_status            1205 non-null   object \n",
      " 5   vehicle_model          1205 non-null   object \n",
      " 6   vehicle_color          1205 non-null   object \n",
      " 7   vehicle_car_region     1205 non-null   int64  \n",
      " 8   payment_cost           1205 non-null   float64\n",
      " 9   payment_currency_code  1205 non-null   object \n",
      " 10  driver_call_model      1205 non-null   object \n",
      "dtypes: float64(1), int64(2), object(8)\n",
      "memory usage: 103.7+ KB\n"
     ]
    }
   ],
   "source": [
    "data.info()"
   ]
  },
  {
   "cell_type": "markdown",
   "id": "c677bc9c",
   "metadata": {},
   "source": [
    "Поиск названий всех возможных тарифов"
   ]
  },
  {
   "cell_type": "code",
   "execution_count": 7,
   "id": "a31d2ac2",
   "metadata": {},
   "outputs": [
    {
     "data": {
      "text/plain": [
       "array(['Эконом', 'Комфорт', 'Комфорт+', 'Доставка'], dtype=object)"
      ]
     },
     "execution_count": 7,
     "metadata": {},
     "output_type": "execute_result"
    }
   ],
   "source": [
    "data['tariff_class'].unique()"
   ]
  },
  {
   "cell_type": "markdown",
   "id": "e6aa8788",
   "metadata": {},
   "source": [
    "Поиск средней цены в тарифе \"Комфорт+\""
   ]
  },
  {
   "cell_type": "code",
   "execution_count": 21,
   "id": "99ae287b",
   "metadata": {},
   "outputs": [],
   "source": [
    "avg_price_comfort_plus = data[(data['tariff_class'] == 'Комфорт+') & (data['status'] == 'finished')].payment_cost.mean()"
   ]
  },
  {
   "cell_type": "code",
   "execution_count": 22,
   "id": "948d1260",
   "metadata": {},
   "outputs": [
    {
     "data": {
      "text/plain": [
       "851.3448275862069"
      ]
     },
     "execution_count": 22,
     "metadata": {},
     "output_type": "execute_result"
    }
   ],
   "source": [
    "avg_price_comfort_plus"
   ]
  },
  {
   "cell_type": "markdown",
   "id": "1d1f0b85",
   "metadata": {},
   "source": [
    "Процент завершенных поездок в тарифе \"Эконом\""
   ]
  },
  {
   "cell_type": "code",
   "execution_count": 27,
   "id": "da532346",
   "metadata": {},
   "outputs": [],
   "source": [
    "prst_of_finished_econom = len(data[(data['tariff_class'] == 'Эконом') & (data['status'] == 'finished')]) / len(data[data['tariff_class'] == 'Эконом']) "
   ]
  },
  {
   "cell_type": "code",
   "execution_count": 28,
   "id": "cd575104",
   "metadata": {},
   "outputs": [
    {
     "data": {
      "text/plain": [
       "0.7909604519774012"
      ]
     },
     "execution_count": 28,
     "metadata": {},
     "output_type": "execute_result"
    }
   ],
   "source": [
    "prst_of_finished_econom"
   ]
  },
  {
   "cell_type": "markdown",
   "id": "6b540b1c",
   "metadata": {},
   "source": [
    "Поиск наименований всех моделей авто"
   ]
  },
  {
   "cell_type": "code",
   "execution_count": 29,
   "id": "864be8fd",
   "metadata": {},
   "outputs": [
    {
     "data": {
      "text/plain": [
       "array(['Kia Rio', 'LADA (ВАЗ) Granta', 'Renault Logan', 'Datsun on-DO',\n",
       "       'LADA (ВАЗ) Vesta', 'Kia Soul', 'Volkswagen Polo',\n",
       "       'Renault Duster', 'LADA (ВАЗ) XRAY', 'Hyundai Accent',\n",
       "       'Hyundai Sonata', 'Kia Cerato', 'Hyundai Solaris',\n",
       "       'Chevrolet Lacetti', 'Skoda Rapid', 'Mazda 6', 'Kia Spectra',\n",
       "       'Skoda Octavia', 'Toyota Camry', 'Mitsubishi Outlander',\n",
       "       'Nissan Almera', 'Fiat Albea', 'Hyundai Elantra', 'Daewoo Nexia',\n",
       "       'LADA (ВАЗ) Largus', 'Ford Focus', 'Lifan Solano', 'Hyundai ix35',\n",
       "       'LADA (ВАЗ) Kalina', 'Chevrolet Aveo', 'Suzuki SX4', \"Kia Cee'd\",\n",
       "       'Citroen C3', 'Ford Fiesta', 'Renault Arkana', 'Kia Optima',\n",
       "       'LADA (ВАЗ) 2112', 'Geely MK Cross', 'Chevrolet Niva',\n",
       "       'Skoda Fabia', 'Kia Sorento', 'Renault Kaptur', 'Renault Sandero',\n",
       "       'LADA (ВАЗ) Priora', 'Chery Tiggo 3', 'Nissan Qashqai',\n",
       "       'Hyundai Verna', 'Mitsubishi Galant', 'Volkswagen Tiguan',\n",
       "       'Chevrolet Cruze', 'Nissan Almera Classic',\n",
       "       'Renault Logan Stepway', \"Kia Cee'd GT\", 'Ford Galaxy', 'Mazda 3',\n",
       "       'Opel Astra', 'Mitsubishi Lancer', 'Hyundai i30',\n",
       "       'Renault Fluence', 'Daewoo Gentra', 'Chevrolet Orlando',\n",
       "       'Nissan Terrano', 'Nissan Teana', 'LADA (ВАЗ) 2115', 'Ford C-MAX',\n",
       "       'Audi A6', 'Peugeot 508', 'Skoda Superb', 'Peugeot 408',\n",
       "       'Geely Emgrand EC7', 'Citroen C4', 'LADA (ВАЗ) 2114',\n",
       "       'Toyota FunCargo', 'Hyundai i40', 'Renault Scenic', 'Ford Fusion',\n",
       "       'Skoda Roomster', 'Volkswagen Golf', 'Great Wall Safe',\n",
       "       'Mercedes-Benz GLE', 'Mercedes-Benz E-klasse', 'Chery Tiggo (T11)',\n",
       "       'Ravon R4', 'Chevrolet Cobalt', 'Mazda Familia',\n",
       "       'Volkswagen Passat', 'Lifan X60', 'Toyota Carina',\n",
       "       'DongFeng H30 Cross', 'LADA (ВАЗ) 2110', 'Great Wall Hover H5',\n",
       "       'Chevrolet Lanos', 'Renault Laguna', 'Geely MK', 'Datsun mi-DO'],\n",
       "      dtype=object)"
      ]
     },
     "execution_count": 29,
     "metadata": {},
     "output_type": "execute_result"
    }
   ],
   "source": [
    "data['vehicle_model'].unique()"
   ]
  },
  {
   "cell_type": "markdown",
   "id": "6dc9b723",
   "metadata": {},
   "source": [
    "Поиск поездок на Chevrolet Niva"
   ]
  },
  {
   "cell_type": "code",
   "execution_count": 30,
   "id": "948a10aa",
   "metadata": {},
   "outputs": [
    {
     "data": {
      "text/html": [
       "<div>\n",
       "<style scoped>\n",
       "    .dataframe tbody tr th:only-of-type {\n",
       "        vertical-align: middle;\n",
       "    }\n",
       "\n",
       "    .dataframe tbody tr th {\n",
       "        vertical-align: top;\n",
       "    }\n",
       "\n",
       "    .dataframe thead th {\n",
       "        text-align: right;\n",
       "    }\n",
       "</style>\n",
       "<table border=\"1\" class=\"dataframe\">\n",
       "  <thead>\n",
       "    <tr style=\"text-align: right;\">\n",
       "      <th></th>\n",
       "      <th>created_at_utc</th>\n",
       "      <th>tariff_class</th>\n",
       "      <th>tariff_internal_name</th>\n",
       "      <th>status</th>\n",
       "      <th>taxi_status</th>\n",
       "      <th>vehicle_model</th>\n",
       "      <th>vehicle_color</th>\n",
       "      <th>vehicle_car_region</th>\n",
       "      <th>payment_cost</th>\n",
       "      <th>payment_currency_code</th>\n",
       "      <th>driver_call_model</th>\n",
       "    </tr>\n",
       "  </thead>\n",
       "  <tbody>\n",
       "    <tr>\n",
       "      <th>209</th>\n",
       "      <td>1611167935</td>\n",
       "      <td>Эконом</td>\n",
       "      <td>econom</td>\n",
       "      <td>finished</td>\n",
       "      <td>complete</td>\n",
       "      <td>Chevrolet Niva</td>\n",
       "      <td>серый</td>\n",
       "      <td>30</td>\n",
       "      <td>140.0</td>\n",
       "      <td>RUB</td>\n",
       "      <td>no_call</td>\n",
       "    </tr>\n",
       "  </tbody>\n",
       "</table>\n",
       "</div>"
      ],
      "text/plain": [
       "     created_at_utc tariff_class tariff_internal_name    status taxi_status  \\\n",
       "209      1611167935       Эконом               econom  finished    complete   \n",
       "\n",
       "      vehicle_model vehicle_color  vehicle_car_region  payment_cost  \\\n",
       "209  Chevrolet Niva         серый                  30         140.0   \n",
       "\n",
       "    payment_currency_code driver_call_model  \n",
       "209                   RUB           no_call  "
      ]
     },
     "execution_count": 30,
     "metadata": {},
     "output_type": "execute_result"
    }
   ],
   "source": [
    "data[data['vehicle_model'] == 'Chevrolet Niva']"
   ]
  },
  {
   "cell_type": "markdown",
   "id": "336d299c",
   "metadata": {},
   "source": [
    "Поиск самой часто встречающейся машины в таблице"
   ]
  },
  {
   "cell_type": "code",
   "execution_count": 31,
   "id": "5b998b44",
   "metadata": {},
   "outputs": [
    {
     "data": {
      "text/plain": [
       "'Renault Logan'"
      ]
     },
     "execution_count": 31,
     "metadata": {},
     "output_type": "execute_result"
    }
   ],
   "source": [
    "data['vehicle_model'].value_counts().idxmax()"
   ]
  },
  {
   "cell_type": "markdown",
   "id": "8f7157d7",
   "metadata": {},
   "source": [
    "Поиск самых популярных авто в разных тарифах"
   ]
  },
  {
   "cell_type": "code",
   "execution_count": 86,
   "id": "feebf091",
   "metadata": {},
   "outputs": [
    {
     "data": {
      "text/html": [
       "<div>\n",
       "<style scoped>\n",
       "    .dataframe tbody tr th:only-of-type {\n",
       "        vertical-align: middle;\n",
       "    }\n",
       "\n",
       "    .dataframe tbody tr th {\n",
       "        vertical-align: top;\n",
       "    }\n",
       "\n",
       "    .dataframe thead th {\n",
       "        text-align: right;\n",
       "    }\n",
       "</style>\n",
       "<table border=\"1\" class=\"dataframe\">\n",
       "  <thead>\n",
       "    <tr style=\"text-align: right;\">\n",
       "      <th></th>\n",
       "      <th>vehicle_model</th>\n",
       "    </tr>\n",
       "    <tr>\n",
       "      <th>tariff_class</th>\n",
       "      <th></th>\n",
       "    </tr>\n",
       "  </thead>\n",
       "  <tbody>\n",
       "    <tr>\n",
       "      <th>Доставка</th>\n",
       "      <td>[LADA (ВАЗ) Largus, Volkswagen Polo]</td>\n",
       "    </tr>\n",
       "    <tr>\n",
       "      <th>Комфорт</th>\n",
       "      <td>Kia Optima</td>\n",
       "    </tr>\n",
       "    <tr>\n",
       "      <th>Комфорт+</th>\n",
       "      <td>Kia Optima</td>\n",
       "    </tr>\n",
       "    <tr>\n",
       "      <th>Эконом</th>\n",
       "      <td>LADA (ВАЗ) Granta</td>\n",
       "    </tr>\n",
       "  </tbody>\n",
       "</table>\n",
       "</div>"
      ],
      "text/plain": [
       "                                     vehicle_model\n",
       "tariff_class                                      \n",
       "Доставка      [LADA (ВАЗ) Largus, Volkswagen Polo]\n",
       "Комфорт                                 Kia Optima\n",
       "Комфорт+                                Kia Optima\n",
       "Эконом                           LADA (ВАЗ) Granta"
      ]
     },
     "execution_count": 86,
     "metadata": {},
     "output_type": "execute_result"
    }
   ],
   "source": [
    "data.groupby('tariff_class').vehicle_model.agg(pd.Series.mode).to_frame()"
   ]
  },
  {
   "cell_type": "markdown",
   "id": "daef0585",
   "metadata": {},
   "source": [
    "Поиск самых популярных цветов авто в разных тарифах"
   ]
  },
  {
   "cell_type": "code",
   "execution_count": 87,
   "id": "5329dc09",
   "metadata": {},
   "outputs": [
    {
     "data": {
      "text/html": [
       "<div>\n",
       "<style scoped>\n",
       "    .dataframe tbody tr th:only-of-type {\n",
       "        vertical-align: middle;\n",
       "    }\n",
       "\n",
       "    .dataframe tbody tr th {\n",
       "        vertical-align: top;\n",
       "    }\n",
       "\n",
       "    .dataframe thead th {\n",
       "        text-align: right;\n",
       "    }\n",
       "</style>\n",
       "<table border=\"1\" class=\"dataframe\">\n",
       "  <thead>\n",
       "    <tr style=\"text-align: right;\">\n",
       "      <th></th>\n",
       "      <th>vehicle_color</th>\n",
       "    </tr>\n",
       "    <tr>\n",
       "      <th>tariff_class</th>\n",
       "      <th></th>\n",
       "    </tr>\n",
       "  </thead>\n",
       "  <tbody>\n",
       "    <tr>\n",
       "      <th>Доставка</th>\n",
       "      <td>[жёлтый, чёрный]</td>\n",
       "    </tr>\n",
       "    <tr>\n",
       "      <th>Комфорт</th>\n",
       "      <td>белый</td>\n",
       "    </tr>\n",
       "    <tr>\n",
       "      <th>Комфорт+</th>\n",
       "      <td>белый</td>\n",
       "    </tr>\n",
       "    <tr>\n",
       "      <th>Эконом</th>\n",
       "      <td>белый</td>\n",
       "    </tr>\n",
       "  </tbody>\n",
       "</table>\n",
       "</div>"
      ],
      "text/plain": [
       "                 vehicle_color\n",
       "tariff_class                  \n",
       "Доставка      [жёлтый, чёрный]\n",
       "Комфорт                  белый\n",
       "Комфорт+                 белый\n",
       "Эконом                   белый"
      ]
     },
     "execution_count": 87,
     "metadata": {},
     "output_type": "execute_result"
    }
   ],
   "source": [
    "data.groupby('tariff_class').vehicle_color.agg(pd.Series.mode).to_frame()"
   ]
  },
  {
   "cell_type": "markdown",
   "id": "4b80d9c2",
   "metadata": {},
   "source": [
    "Диаграмма: 15 самых популярных авто в такси"
   ]
  },
  {
   "cell_type": "code",
   "execution_count": 72,
   "id": "6817b1bb",
   "metadata": {},
   "outputs": [],
   "source": [
    "s1 = data['vehicle_model'].value_counts()"
   ]
  },
  {
   "cell_type": "code",
   "execution_count": 79,
   "id": "e6e681ce",
   "metadata": {},
   "outputs": [
    {
     "data": {
      "image/png": "[encoded data removed]",
      "text/plain": [
       "<Figure size 432x288 with 1 Axes>"
      ]
     },
     "metadata": {},
     "output_type": "display_data"
    }
   ],
   "source": [
    "explode = (0.2, 0, 0, 0, 0, 0)\n",
    "plt.pie(s1.values[:15], labels=s1.index[:15],\n",
    "autopct='%1.1f%%', shadow=True)\n",
    "plt.title('15 самых популярных машин в такси')\n",
    "plt.show()"
   ]
  },
  {
   "cell_type": "markdown",
   "id": "2b8da5ec",
   "metadata": {},
   "source": [
    "Диаграмма: 10 самых популярных регионов в таблице такси"
   ]
  },
  {
   "cell_type": "code",
   "execution_count": 89,
   "id": "5c6657f0",
   "metadata": {},
   "outputs": [],
   "source": [
    "s2 = data['vehicle_car_region'].value_counts()"
   ]
  },
  {
   "cell_type": "code",
   "execution_count": 90,
   "id": "d8f77e0c",
   "metadata": {},
   "outputs": [],
   "source": [
    "bar_values = s2.values"
   ]
  },
  {
   "cell_type": "code",
   "execution_count": 102,
   "id": "bfe2c2d3",
   "metadata": {},
   "outputs": [],
   "source": [
    "bar_x = s2.index.values"
   ]
  },
  {
   "cell_type": "code",
   "execution_count": 105,
   "id": "266a74a7",
   "metadata": {},
   "outputs": [],
   "source": [
    "df_bar = pd.DataFrame({'regions':bar_x, 'value_counts':bar_values})"
   ]
  },
  {
   "cell_type": "code",
   "execution_count": 111,
   "id": "9657a07a",
   "metadata": {},
   "outputs": [],
   "source": [
    "df_bar_last_ten = df_bar[df_bar['value_counts'] > 5]"
   ]
  },
  {
   "cell_type": "code",
   "execution_count": 133,
   "id": "856e9c2c",
   "metadata": {},
   "outputs": [
    {
     "data": {
      "image/png": "[encoded data removed]",
      "text/plain": [
       "<Figure size 432x288 with 1 Axes>"
      ]
     },
     "metadata": {
      "needs_background": "light"
     },
     "output_type": "display_data"
    }
   ],
   "source": [
    "ax = df_bar_last_ten.plot.bar(x='regions', y='value_counts', rot=0)\n",
    "for container in ax.containers:\n",
    "    ax.bar_label(container)"
   ]
  },
  {
   "cell_type": "markdown",
   "id": "df61729c",
   "metadata": {},
   "source": [
    "Диаграмма: средняя цена в каждом тарифе"
   ]
  },
  {
   "cell_type": "code",
   "execution_count": 116,
   "id": "3a5f105a",
   "metadata": {},
   "outputs": [],
   "source": [
    "price_check = data[data['status'] == 'finished']"
   ]
  },
  {
   "cell_type": "code",
   "execution_count": 118,
   "id": "2ff57c91",
   "metadata": {},
   "outputs": [],
   "source": [
    "s3 = price_check.groupby('tariff_class').payment_cost.mean()"
   ]
  },
  {
   "cell_type": "code",
   "execution_count": 121,
   "id": "95918dff",
   "metadata": {},
   "outputs": [],
   "source": [
    "bar2_values = s3.values"
   ]
  },
  {
   "cell_type": "code",
   "execution_count": 122,
   "id": "a1c8aba1",
   "metadata": {},
   "outputs": [],
   "source": [
    "bar2_x = s3.index.values"
   ]
  },
  {
   "cell_type": "code",
   "execution_count": 123,
   "id": "e83d3e85",
   "metadata": {},
   "outputs": [],
   "source": [
    "df_bar2 = pd.DataFrame({'tariff':bar2_x, 'mean_price':bar2_values})"
   ]
  },
  {
   "cell_type": "code",
   "execution_count": 128,
   "id": "45777748",
   "metadata": {},
   "outputs": [],
   "source": [
    "df_bar2.sort_values(by = 'mean_price', inplace = True)"
   ]
  },
  {
   "cell_type": "code",
   "execution_count": 132,
   "id": "a077f764",
   "metadata": {},
   "outputs": [
    {
     "data": {
      "image/png": "[encoded data removed]",
      "text/plain": [
       "<Figure size 432x288 with 1 Axes>"
      ]
     },
     "metadata": {
      "needs_background": "light"
     },
     "output_type": "display_data"
    }
   ],
   "source": [
    "ax = df_bar2.plot.bar(x='tariff', y='mean_price', rot=0)\n",
    "for container in ax.containers:\n",
    "    ax.bar_label(container)"
   ]
  },
  {
   "cell_type": "code",
   "execution_count": null,
   "id": "d9c0a7f6",
   "metadata": {},
   "outputs": [],
   "source": []
  }
 ],
 "metadata": {
  "kernelspec": {
   "display_name": "Python 3 (ipykernel)",
   "language": "python",
   "name": "python3"
  },
  "language_info": {
   "codemirror_mode": {
    "name": "ipython",
    "version": 3
   },
   "file_extension": ".py",
   "mimetype": "text/x-python",
   "name": "python",
   "nbconvert_exporter": "python",
   "pygments_lexer": "ipython3",
   "version": "3.9.12"
  }
 },
 "nbformat": 4,
 "nbformat_minor": 5
}
